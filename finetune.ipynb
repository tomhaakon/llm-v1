{
 "cells": [
  {
   "cell_type": "code",
   "execution_count": 2,
   "id": "a3142adf-d82d-4432-a836-d44f62bf178d",
   "metadata": {},
   "outputs": [],
   "source": [
    "import torch\n",
    "import pickle\n",
    "import tarfile\n",
    "import os\n",
    "import lzma\n",
    "import random\n",
    "from tqdm import tqdm\n",
    "import time\n",
    "import torch.nn as nn\n",
    "from torch.nn import functional as F\n",
    "import nbimporter #import from jupyter notebook file\n",
    "from training import Block, FeedFoward, MultiHeadAttention, Head, GPTLanguageModel # Replace with your actual import\n",
    "# Add any other necessary imports here"
   ]
  },
  {
   "cell_type": "code",
   "execution_count": 3,
   "id": "64cdac0e-7dac-4579-981e-67d9157f6e13",
   "metadata": {},
   "outputs": [
    {
     "name": "stdout",
     "output_type": "stream",
     "text": [
      "Loading pre-trained model...\n",
      "Model loaded successfully!\n"
     ]
    }
   ],
   "source": [
    "print('Loading pre-trained model...')\n",
    "with open('model-01.pkl', 'rb') as f:\n",
    "    model = pickle.load(f)\n",
    "print('Model loaded successfully!')\n"
   ]
  },
  {
   "cell_type": "code",
   "execution_count": 4,
   "id": "39020e93-4bb0-4636-acab-ad721f338035",
   "metadata": {},
   "outputs": [],
   "source": [
    "def read_xz_file(file_path):\n",
    "    with lzma.open(file_path, 'rt', encoding='utf-8') as file:\n",
    "        return file.read()"
   ]
  },
  {
   "cell_type": "code",
   "execution_count": 5,
   "id": "c653a941-3028-49ca-a88b-0fbfa33bffa6",
   "metadata": {},
   "outputs": [],
   "source": [
    "def read_all_xz_files(directory):\n",
    "    texts = []\n",
    "    for filename in os.listdir(directory):\n",
    "        if filename.endswith('.xz'):\n",
    "            file_path = os.path.join(directory, filename)\n",
    "            file_content = read_xz_file(file_path)\n",
    "            texts.append(file_content)\n",
    "    return texts\n"
   ]
  },
  {
   "cell_type": "code",
   "execution_count": 6,
   "id": "b0b3f44d-a2c9-48c4-af64-3e4f0bb671b7",
   "metadata": {},
   "outputs": [],
   "source": [
    "\n",
    "def process_xz_file(file_path):\n",
    "    with lzma.open(file_path, 'rt', encoding='utf-8') as file:\n",
    "        text = file.read()\n",
    "    # Process the text here (e.g., tokenization, data cleaning)\n",
    "    # Save or use the processed text before moving to the next file\n",
    "\n",
    "directory = 'openwebtext/subsets/urlsf_subset02/openwebtext'\n",
    "for filename in os.listdir(directory):\n",
    "    if filename.endswith('.xz'):\n",
    "        file_path = os.path.join(directory, filename)\n",
    "        process_xz_file(file_path)"
   ]
  },
  {
   "cell_type": "code",
   "execution_count": null,
   "id": "ca5433c6-3e06-4359-bf2b-08eab26251d6",
   "metadata": {},
   "outputs": [],
   "source": [
    "def read_xz_files_generator(directory):\n",
    "    for filename in os.listdir(directory):\n",
    "        if filename.endswith('.xz'):\n",
    "            file_path = os.path.join(directory, filename)\n",
    "            with lzma.open(file_path, 'rt', encoding='utf-8') as file:\n",
    "                yield file.read()\n",
    "\n",
    "# Usage\n",
    "for text in read_xz_files_generator('openwebtext/subsets/urlsf_subset02/openwebtext'):\n",
    "    # Process each text here"
   ]
  },
  {
   "cell_type": "code",
   "execution_count": 8,
   "id": "478378d4-c5ff-4b4a-8b00-c9dbb669ddb1",
   "metadata": {},
   "outputs": [],
   "source": [
    "from tqdm import tqdm\n",
    "import os\n",
    "import lzma\n",
    "\n",
    "def process_and_save(file_path, output_directory, file_index):\n",
    "    with lzma.open(file_path, 'rt', encoding='utf-8') as file:\n",
    "        text = file.read()\n",
    "    \n",
    "    # Process the text (add your text processing logic here)\n",
    "    processed_text = text  # Replace this with actual processing code\n",
    "\n",
    "    # Save the processed text to a new file\n",
    "    with open(os.path.join(output_directory, f\"processed_{file_index}.txt\"), 'w', encoding='utf-8') as out_file:\n",
    "        out_file.write(processed_text)\n",
    "\n",
    "output_directory = 'processed_texts'\n",
    "os.makedirs(output_directory, exist_ok=True)\n",
    "\n",
    "# Adding tqdm for progress bar\n",
    "file_list = os.listdir('openwebtext/subsets/urlsf_subset02/openwebtext')\n",
    "for i, filename in tqdm(enumerate(file_list), total=len(file_list)):\n",
    "    if filename.endswith('.xz'):\n",
    "        file_path = os.path.join('openwebtext/subsets/urlsf_subset02/openwebtext', filename)\n",
    "        process_and_save(file_path, output_directory, i)\n"
   ]
  },
  {
   "cell_type": "code",
   "execution_count": null,
   "id": "f30c6323-e660-4bc3-9fc6-a12dad880cf9",
   "metadata": {},
   "outputs": [],
   "source": []
  }
 ],
 "metadata": {
  "kernelspec": {
   "display_name": "cuda-gpt",
   "language": "python",
   "name": "cuda"
  },
  "language_info": {
   "codemirror_mode": {
    "name": "ipython",
    "version": 3
   },
   "file_extension": ".py",
   "mimetype": "text/x-python",
   "name": "python",
   "nbconvert_exporter": "python",
   "pygments_lexer": "ipython3",
   "version": "3.11.5"
  }
 },
 "nbformat": 4,
 "nbformat_minor": 5
}
