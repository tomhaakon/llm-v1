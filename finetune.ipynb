{
 "cells": [
  {
   "cell_type": "code",
   "execution_count": 20,
   "id": "a3142adf-d82d-4432-a836-d44f62bf178d",
   "metadata": {},
   "outputs": [
    {
     "name": "stderr",
     "output_type": "stream",
     "text": [
      "Reading Text Files: 100%|██████████████████████████████████████████████████████████| 1000/1000 [00:38<00:00, 26.08it/s]\n"
     ]
    }
   ],
   "source": [
    "import torch\n",
    "import pickle\n",
    "import tarfile\n",
    "import os\n",
    "import lzma\n",
    "import random\n",
    "#from transformers import GPT2Tokenizer\n",
    "from tqdm import tqdm\n",
    "import time\n",
    "import torch.nn as nn\n",
    "from torch.nn import functional as F\n",
    "import nbimporter #import from jupyter notebook file\n",
    "from training import Block, FeedFoward, MultiHeadAttention, Head, GPTLanguageModel # Replace with your actual import\n",
    "\n",
    "data = read_text_files('processed_texts')\n",
    "#tokenizer = GPT2Tokenizer.from_pretrained('gpt2')\n",
    "# Add any other necessary imports here"
   ]
  },
  {
   "cell_type": "code",
   "execution_count": 21,
   "id": "64cdac0e-7dac-4579-981e-67d9157f6e13",
   "metadata": {},
   "outputs": [
    {
     "name": "stdout",
     "output_type": "stream",
     "text": [
      "Loading pre-trained model...\n",
      "1700313235.3036556\n",
      "Model loaded successfully!\n"
     ]
    }
   ],
   "source": [
    "print('Loading pre-trained model...')\n",
    "with open('model-01.pkl', 'rb') as f:\n",
    "    model = pickle.load(f)\n",
    "\n",
    "print(time.time())\n",
    "print ('Model loaded successfully!')\n"
   ]
  },
  {
   "cell_type": "code",
   "execution_count": 22,
   "id": "f30c6323-e660-4bc3-9fc6-a12dad880cf9",
   "metadata": {},
   "outputs": [],
   "source": [
    "def read_text_files(directory):\n",
    "    texts = []\n",
    "    # Retrieve the list of files in the directory\n",
    "    filenames = [f for f in os.listdir(directory) if os.path.isfile(os.path.join(directory, f))]\n",
    "    # Loop through the files with a progress bar\n",
    "    for filename in tqdm(filenames, desc=\"Reading Text Files\"):\n",
    "        filepath = os.path.join(directory, filename)\n",
    "        with open(filepath, 'r', encoding='utf-8') as file:\n",
    "            texts.append(file.read())\n",
    "    return texts\n"
   ]
  },
  {
   "cell_type": "code",
   "execution_count": 23,
   "id": "c9fafecc-8c61-4ad5-b941-c659aee46f43",
   "metadata": {},
   "outputs": [],
   "source": [
    "class SimpleTokenizer:\n",
    "    def __init__(self):\n",
    "        self.token_to_id = {\"<PAD>\": 0, \"<UNK>\": 1}  # Initialize with special tokens\n",
    "        self.id_to_token = {0: \"<PAD>\", 1: \"<UNK>\"}\n",
    "        self.char_to_id = {}\n",
    "        self.id_to_char = {}\n",
    "    def build_vocab(self, texts):\n",
    "        unique_tokens = set()\n",
    "        for text in tqdm(texts, desc=\"Building Vocabulary\"):\n",
    "            unique_tokens.update(text.split())\n",
    "        \n",
    "        for token in unique_tokens:\n",
    "            if token not in self.token_to_id:\n",
    "                token_id = len(self.token_to_id)\n",
    "                self.token_to_id[token] = token_id\n",
    "                self.id_to_token[token_id] = token\n",
    "\n",
    "    def encode(self, text):\n",
    "        return [self.token_to_id.get(word, self.token_to_id[\"<UNK>\"]) for word in text.split()]\n",
    "\n",
    "    def decode(self, token_ids):\n",
    "        return ' '.join(self.id_to_token.get(id, \"<UNK>\") for id in token_ids)\n"
   ]
  },
  {
   "cell_type": "code",
   "execution_count": 24,
   "id": "94c54e66-02ae-40f4-a7c8-881e3e76e4aa",
   "metadata": {},
   "outputs": [],
   "source": [
    "build_vocab = False #sett til true om du vil bygge vocab list\n",
    "if(build_vocab):\n",
    "    tokenizer = SimpleTokenizer()\n",
    "    tokenizer.build_vocab(read_text_files('processed_texts'))\n",
    "    with open('tokenizer_vocab.pkl', 'wb') as f:\n",
    "        pickle.dump((tokenizer.char_to_id, tokenizer.id_to_char), f)\n"
   ]
  },
  {
   "cell_type": "code",
   "execution_count": 27,
   "id": "9a9e990e-bb7e-42ad-b8e4-a90c94ed875e",
   "metadata": {},
   "outputs": [
    {
     "name": "stderr",
     "output_type": "stream",
     "text": [
      "Tokenizing: 100%|██████████████████████████████████████████████████████████████████| 1000/1000 [06:48<00:00,  2.45it/s]\n"
     ]
    }
   ],
   "source": [
    "if build_vocab == False:\n",
    "    with open('tokenizer_vocab.pkl', 'rb') as f:\n",
    "        char_to_id, id_to_char = pickle.load(f)\n",
    "        tokenizer.char_to_id = char_to_id\n",
    "        tokenizer.id_to_char = id_to_char\n",
    "\n",
    "tokenized_data = [tokenizer.encode(text) for text in tqdm(data, desc=\"Tokenizing\")]\n",
    "\n"
   ]
  },
  {
   "cell_type": "code",
   "execution_count": null,
   "id": "5b229359-d66f-4f25-b7ef-e4c804c4629a",
   "metadata": {},
   "outputs": [],
   "source": []
  }
 ],
 "metadata": {
  "kernelspec": {
   "display_name": "cuda-gpt",
   "language": "python",
   "name": "cuda"
  },
  "language_info": {
   "codemirror_mode": {
    "name": "ipython",
    "version": 3
   },
   "file_extension": ".py",
   "mimetype": "text/x-python",
   "name": "python",
   "nbconvert_exporter": "python",
   "pygments_lexer": "ipython3",
   "version": "3.11.5"
  }
 },
 "nbformat": 4,
 "nbformat_minor": 5
}
