{
 "cells": [
  {
   "cell_type": "code",
   "execution_count": 20,
   "id": "643f4ba9-efb1-45d2-8a9b-b46186b17988",
   "metadata": {},
   "outputs": [
    {
     "name": "stdout",
     "output_type": "stream",
     "text": [
      "cuda\n"
     ]
    }
   ],
   "source": [
    "import torch\n",
    "import numpy as np\n",
    "import time\n",
    "device = 'cuda' if torch.cuda.is_available() else 'cpu'\n",
    "print(device)"
   ]
  },
  {
   "cell_type": "code",
   "execution_count": 28,
   "id": "81e10136-533a-42da-ad5a-886fdff7f9c6",
   "metadata": {},
   "outputs": [
    {
     "name": "stdout",
     "output_type": "stream",
     "text": [
      "0.00000000\n",
      "CPU times: total: 0 ns\n",
      "Wall time: 0 ns\n"
     ]
    }
   ],
   "source": [
    "%%time\n",
    "start_time = time.time()\n",
    "# matrix operations here\n",
    "zeros = torch.zeros(1, 1)\n",
    "end_time = time.time()\n",
    "\n",
    "elapsed_time = end_time - start_time\n",
    "print(f\"{elapsed_time:.8f}\")"
   ]
  },
  {
   "cell_type": "code",
   "execution_count": 30,
   "id": "2e040ef3-cb0b-4da8-adc2-3d6f970cc406",
   "metadata": {},
   "outputs": [
    {
     "name": "stdout",
     "output_type": "stream",
     "text": [
      "0.03058100\n",
      "0.13819909\n",
      "CPU times: total: 1.81 s\n",
      "Wall time: 2.13 s\n"
     ]
    }
   ],
   "source": [
    "%%time\n",
    "torch_rand1 = torch.rand(100, 100, 100, 100).to(device)\n",
    "torch_rand2 = torch.rand(100, 100, 100, 100).to(device)\n",
    "np_rand1 = torch.rand(100, 100, 100, 100)\n",
    "np_rand2 = torch.rand(100, 100, 100, 100)\n",
    "\n",
    "start_time = time.time()\n",
    "\n",
    "rand = (torch_rand1 @ torch_rand2)\n",
    "\n",
    "end_time = time.time()\n",
    "\n",
    "elapsed_time = end_time - start_time\n",
    "print(f\"{elapsed_time:.8f}\")\n",
    "\n",
    "start_time = time.time()\n",
    "\n",
    "rand = np.multiply(np_rand1, np_rand2)\n",
    "end_time = time.time()\n",
    "elapsed_time = end_time - start_time\n",
    "print(f\"{elapsed_time:.8f}\")"
   ]
  },
  {
   "cell_type": "code",
   "execution_count": 32,
   "id": "55bd436d-48fe-48f1-89d3-a6e4a0effc9c",
   "metadata": {},
   "outputs": [
    {
     "name": "stdout",
     "output_type": "stream",
     "text": [
      "tensor([1, 1, 1, 1, 1, 1, 1, 1, 1, 1])\n"
     ]
    }
   ],
   "source": [
    "# embeddings, torch.stack, torch.multinomial, torch.tril, torch.triu, input.T / input.transpose, nn.Linear, torch.cat, F.softmax (show all the examples of functions/methods with pytorch docs)\n",
    "\n",
    "# Define a prob tensor\n",
    "probabilities = torch.tensor([0.1, 0.9])\n",
    "# 10% or 0.1 => 0, 90% or 0.9 => 1. each prob points to the index of the probabilirt in the tensor\n",
    "# Draw 5 samples from  the multinimal distrubution\n",
    "samples = torch.multinomial(probabilities, num_samples=10, replacement=True)\n",
    "print(samples)"
   ]
  },
  {
   "cell_type": "code",
   "execution_count": 34,
   "id": "2c4cc26a-f000-4d3f-b761-8b6f09e2cb04",
   "metadata": {},
   "outputs": [
    {
     "data": {
      "text/plain": [
       "tensor([1, 2, 3, 4, 5])"
      ]
     },
     "execution_count": 34,
     "metadata": {},
     "output_type": "execute_result"
    }
   ],
   "source": [
    "tensor = torch.tensor([1, 2, 3, 4])\n",
    "out = torch.cat((tensor, torch.tensor([5])), dim=0)\n",
    "out"
   ]
  },
  {
   "cell_type": "code",
   "execution_count": 35,
   "id": "99e0e3e6-3725-4691-bd9c-927dceae8a65",
   "metadata": {},
   "outputs": [
    {
     "data": {
      "text/plain": [
       "tensor([[1., 0., 0., 0., 0.],\n",
       "        [1., 1., 0., 0., 0.],\n",
       "        [1., 1., 1., 0., 0.],\n",
       "        [1., 1., 1., 1., 0.],\n",
       "        [1., 1., 1., 1., 1.]])"
      ]
     },
     "execution_count": 35,
     "metadata": {},
     "output_type": "execute_result"
    }
   ],
   "source": [
    "out = torch.tril(torch.ones(5, 5))\n",
    "out"
   ]
  },
  {
   "cell_type": "code",
   "execution_count": 36,
   "id": "230853d3-0932-4270-9dd6-ebdc8d5f25e5",
   "metadata": {},
   "outputs": [
    {
     "data": {
      "text/plain": [
       "tensor([[1., 1., 1., 1., 1.],\n",
       "        [0., 1., 1., 1., 1.],\n",
       "        [0., 0., 1., 1., 1.],\n",
       "        [0., 0., 0., 1., 1.],\n",
       "        [0., 0., 0., 0., 1.]])"
      ]
     },
     "execution_count": 36,
     "metadata": {},
     "output_type": "execute_result"
    }
   ],
   "source": [
    "out = torch.triu(torch.ones(5,5))\n",
    "out"
   ]
  },
  {
   "cell_type": "code",
   "execution_count": 37,
   "id": "2b663a6c-969f-4de0-ae71-98e57b3b4086",
   "metadata": {},
   "outputs": [
    {
     "data": {
      "text/plain": [
       "tensor([[0., -inf, -inf, -inf, -inf],\n",
       "        [0., 0., -inf, -inf, -inf],\n",
       "        [0., 0., 0., -inf, -inf],\n",
       "        [0., 0., 0., 0., -inf],\n",
       "        [0., 0., 0., 0., 0.]])"
      ]
     },
     "execution_count": 37,
     "metadata": {},
     "output_type": "execute_result"
    }
   ],
   "source": [
    "out = torch.zeros(5, 5).masked_fill(torch.tril(torch.ones(5, 5)) == 0, float('-inf'))\n",
    "out"
   ]
  },
  {
   "cell_type": "code",
   "execution_count": 38,
   "id": "ccc8ff45-d76b-492c-9a86-48afe9903150",
   "metadata": {},
   "outputs": [
    {
     "data": {
      "text/plain": [
       "tensor([[1., 0., 0., 0., 0.],\n",
       "        [1., 1., 0., 0., 0.],\n",
       "        [1., 1., 1., 0., 0.],\n",
       "        [1., 1., 1., 1., 0.],\n",
       "        [1., 1., 1., 1., 1.]])"
      ]
     },
     "execution_count": 38,
     "metadata": {},
     "output_type": "execute_result"
    }
   ],
   "source": [
    "torch.exp(out)"
   ]
  },
  {
   "cell_type": "code",
   "execution_count": 40,
   "id": "3bc47f87-5f60-48a3-94b1-7428b7b199e6",
   "metadata": {},
   "outputs": [
    {
     "name": "stdout",
     "output_type": "stream",
     "text": [
      "torch.Size([3, 2, 4])\n",
      "torch.Size([2, 4, 3])\n"
     ]
    }
   ],
   "source": [
    "input = torch.zeros(2,3,4)\n",
    "out1 = input.transpose(0,1)\n",
    "out2 = input.transpose(-2,-1)\n",
    "print(out1.shape)\n",
    "print(out2.shape)\n",
    "# torch.permute works the same but you provide the new order of dimensions instead of the dimensions you'd like to swap.\n"
   ]
  },
  {
   "cell_type": "code",
   "execution_count": 42,
   "id": "3a40b02a-f49a-493a-8bd7-987e0509a0cb",
   "metadata": {},
   "outputs": [
    {
     "data": {
      "text/plain": [
       "tensor([[1, 2, 3],\n",
       "        [4, 5, 6],\n",
       "        [7, 8, 9]])"
      ]
     },
     "execution_count": 42,
     "metadata": {},
     "output_type": "execute_result"
    }
   ],
   "source": [
    "tensor1 = torch.tensor([1, 2, 3])\n",
    "tensor2 = torch.tensor([4, 5, 6])\n",
    "tensor3 = torch.tensor([7, 8, 9])\n",
    "\n",
    "# Stack the tenosrs along a new dimesion\n",
    "stacked_tensor = torch.stack([tensor1, tensor2, tensor3])\n",
    "stacked_tensor"
   ]
  },
  {
   "cell_type": "code",
   "execution_count": 43,
   "id": "70cddb51-7297-4f92-90c0-f5fa45360987",
   "metadata": {},
   "outputs": [
    {
     "name": "stdout",
     "output_type": "stream",
     "text": [
      "tensor([-1.9242, -1.1971, -4.3156], grad_fn=<SqueezeBackward4>)\n"
     ]
    }
   ],
   "source": [
    "import torch.nn as nn\n",
    "sample = torch.tensor([10.,10.,10.])\n",
    "linear = nn.Linear(3, 3, bias=False)\n",
    "print(linear(sample))"
   ]
  },
  {
   "cell_type": "code",
   "execution_count": 44,
   "id": "e8ff3e67-bbc7-43cc-9efb-0706b23e6b28",
   "metadata": {},
   "outputs": [
    {
     "name": "stdout",
     "output_type": "stream",
     "text": [
      "tensor([0.0900, 0.2447, 0.6652])\n"
     ]
    }
   ],
   "source": [
    "import torch.nn.functional as F\n",
    "\n",
    "# Crete a tensor\n",
    "tensor1 = torch.tensor([1.0, 2.0, 3.0])\n",
    "\n",
    "# apply\n",
    "softmax_output = F.softmax(tensor1, dim=0)\n",
    "print(softmax_output)"
   ]
  },
  {
   "cell_type": "code",
   "execution_count": 47,
   "id": "ced4c4ef-39b1-429a-ab2d-299e8947f762",
   "metadata": {},
   "outputs": [
    {
     "name": "stdout",
     "output_type": "stream",
     "text": [
      "torch.Size([4, 6])\n",
      "tensor([[-0.3552,  0.9902,  0.6563, -0.1320, -0.8413, -0.0394],\n",
      "        [ 1.0517, -0.6778, -2.0950,  1.1949,  0.0831,  0.5955],\n",
      "        [ 0.6632,  0.6559,  1.2674, -0.7755,  0.9321,  1.9854],\n",
      "        [-0.6797,  1.3721, -0.1568,  1.4068, -1.8555,  0.0472]],\n",
      "       grad_fn=<EmbeddingBackward0>)\n"
     ]
    }
   ],
   "source": [
    "# init an embed layer\n",
    "vocab_size = 80\n",
    "embedding_dim = 6\n",
    "embedding = nn.Embedding(vocab_size, embedding_dim)\n",
    "\n",
    "# create some input indices\n",
    "input_indices = torch.LongTensor([1, 5,  3, 2])\n",
    "\n",
    "#apply the embedding layer\n",
    "embedded_output = embedding(input_indices)\n",
    "\n",
    "#the output will be a tensor of shape (4, 100), whjeree 4 is the number of inputs\n",
    "# and 100 is the dimensionalirt of the eembedding vectors\n",
    "print(embedded_output.shape)\n",
    "print(embedded_output)"
   ]
  },
  {
   "cell_type": "code",
   "execution_count": 50,
   "id": "d73b9a87-6573-45b2-bd3e-f6c3cdd2717a",
   "metadata": {},
   "outputs": [
    {
     "name": "stdout",
     "output_type": "stream",
     "text": [
      "tensor([[ 27,  30,  33],\n",
      "        [ 61,  68,  75],\n",
      "        [ 95, 106, 117]])\n",
      "tensor([[ 27,  30,  33],\n",
      "        [ 61,  68,  75],\n",
      "        [ 95, 106, 117]])\n"
     ]
    }
   ],
   "source": [
    "a = torch.tensor([[1,2], [3,4], [5,6]])\n",
    "b = torch.tensor([[7,8,9], [10,11,12]])\n",
    "print(a @ b)\n",
    "print(torch.matmul(a,b))"
   ]
  },
  {
   "cell_type": "code",
   "execution_count": 53,
   "id": "72d7f3dd-3f47-443a-a055-38976d386152",
   "metadata": {},
   "outputs": [
    {
     "name": "stdout",
     "output_type": "stream",
     "text": [
      "torch.float32 torch.float32\n",
      "tensor([[0., 0., 0.],\n",
      "        [0., 0., 0.],\n",
      "        [0., 0., 0.]])\n"
     ]
    }
   ],
   "source": [
    "int_64 = torch.randint(1, (3,2)).float()\n",
    "#type int64\n",
    "float_32 = torch.rand(2,3)\n",
    "#type float32\n",
    "print(int_64.dtype, float_32.dtype)\n",
    "result = torch.matmul(int_64, float_32)\n",
    "print(result)"
   ]
  },
  {
   "cell_type": "code",
   "execution_count": 56,
   "id": "7f2c74e7-af11-4457-96fb-80cfe31a3fd6",
   "metadata": {},
   "outputs": [
    {
     "name": "stdout",
     "output_type": "stream",
     "text": [
      "torch.Size([2, 3, 5])\n",
      "2 3 5\n",
      "torch.Size([2, 3, 5])\n"
     ]
    }
   ],
   "source": [
    "a = torch.rand(2, 3, 5)\n",
    "print(a.shape)\n",
    "x, y, z = a.shape\n",
    "a = a.view(x, y, z)\n",
    "print(x,y,z)\n",
    "print(a.shape)"
   ]
  },
  {
   "cell_type": "code",
   "execution_count": 57,
   "id": "20f580b7-a7a0-41a9-b6bf-70727c5e980a",
   "metadata": {},
   "outputs": [
    {
     "name": "stdout",
     "output_type": "stream",
     "text": [
      "tensor([[6.4993e-01, 3.3401e-01, 6.2100e-01, 7.1328e-01, 1.3454e-02, 2.9118e-01,\n",
      "         5.8331e-01, 5.8340e-02, 7.4311e-02, 1.8450e-02],\n",
      "        [7.2969e-01, 7.6815e-01, 9.1126e-01, 3.0175e-01, 4.7051e-01, 3.6621e-01,\n",
      "         1.4163e-01, 3.7287e-01, 7.5687e-01, 6.4917e-01],\n",
      "        [2.0406e-01, 1.3176e-01, 1.2037e-01, 8.0063e-01, 4.1848e-01, 3.3595e-02,\n",
      "         6.8039e-01, 2.4119e-01, 3.4890e-01, 1.5099e-01],\n",
      "        [7.8998e-01, 9.0605e-01, 9.9355e-01, 8.6856e-01, 2.9495e-01, 8.5102e-01,\n",
      "         2.9418e-02, 3.0125e-01, 3.9594e-02, 3.9986e-01],\n",
      "        [8.4958e-01, 5.3966e-04, 2.0335e-03, 6.0770e-01, 1.5452e-01, 7.1239e-01,\n",
      "         7.2098e-01, 2.8092e-01, 6.9865e-01, 8.3431e-01],\n",
      "        [2.2373e-01, 6.7202e-01, 3.3628e-01, 8.8274e-01, 6.6550e-01, 8.1562e-01,\n",
      "         1.0132e-01, 7.9682e-01, 3.7377e-01, 2.2290e-01],\n",
      "        [2.6713e-01, 8.2764e-01, 3.1438e-01, 1.8374e-01, 8.8496e-01, 2.1670e-01,\n",
      "         4.6850e-01, 8.1411e-01, 8.2223e-01, 6.4684e-01],\n",
      "        [3.4251e-01, 4.8484e-01, 9.9271e-01, 7.1395e-01, 3.4923e-02, 2.0302e-01,\n",
      "         4.5948e-01, 9.7393e-01, 9.8096e-01, 6.5450e-01],\n",
      "        [7.3632e-01, 2.2645e-01, 9.0435e-01, 1.6468e-01, 9.2897e-01, 5.4278e-02,\n",
      "         7.2717e-01, 2.6394e-01, 6.5026e-02, 9.6054e-01],\n",
      "        [7.9401e-01, 1.9089e-01, 2.2403e-01, 1.9532e-01, 2.8571e-01, 9.6479e-01,\n",
      "         6.0356e-01, 9.9473e-01, 7.9696e-01, 5.7068e-01],\n",
      "        [7.2171e-01, 4.5010e-01, 1.7475e-01, 8.1936e-01, 5.9696e-01, 6.7323e-01,\n",
      "         5.2010e-01, 6.7806e-01, 5.1504e-01, 5.3644e-02],\n",
      "        [3.9075e-01, 7.0667e-01, 8.4436e-01, 9.5600e-01, 3.0358e-01, 1.3563e-01,\n",
      "         4.9891e-01, 2.6194e-01, 2.5505e-01, 4.4605e-01],\n",
      "        [6.2440e-01, 7.0548e-01, 9.1827e-01, 8.9439e-01, 7.0076e-01, 7.2852e-01,\n",
      "         3.0987e-02, 5.7954e-01, 8.4780e-01, 1.2474e-01],\n",
      "        [5.0361e-01, 4.6973e-01, 3.6871e-02, 4.0007e-02, 4.8283e-01, 7.9077e-01,\n",
      "         1.6429e-02, 7.9667e-01, 4.3106e-02, 7.3749e-01],\n",
      "        [9.4374e-02, 8.5050e-01, 8.6369e-01, 4.6681e-01, 3.4347e-01, 3.4339e-01,\n",
      "         2.6188e-01, 3.1621e-01, 5.7357e-01, 7.1330e-01],\n",
      "        [2.9655e-01, 8.7243e-01, 7.9539e-01, 4.3386e-01, 9.9851e-01, 4.9742e-01,\n",
      "         2.7448e-01, 3.7726e-01, 8.3390e-01, 1.9988e-01],\n",
      "        [1.6574e-02, 9.0313e-01, 8.1383e-01, 2.3138e-01, 3.4295e-01, 9.2240e-01,\n",
      "         2.0719e-01, 4.1000e-01, 2.7078e-01, 9.9217e-01],\n",
      "        [8.9579e-01, 6.7782e-01, 7.6129e-01, 5.5255e-01, 4.4937e-01, 8.5013e-01,\n",
      "         8.5083e-02, 2.0210e-01, 5.1780e-01, 7.1339e-02],\n",
      "        [2.7584e-02, 8.0911e-01, 2.7227e-01, 9.1108e-01, 7.2550e-01, 2.0640e-01,\n",
      "         9.2082e-01, 6.1295e-01, 3.9022e-01, 6.7299e-01],\n",
      "        [1.5056e-01, 5.4307e-01, 8.1927e-01, 4.9015e-01, 2.3015e-01, 3.9271e-01,\n",
      "         5.4930e-01, 3.2188e-02, 9.4011e-01, 2.3307e-01],\n",
      "        [6.8975e-01, 8.4204e-01, 3.6998e-02, 8.9497e-01, 3.6273e-01, 5.0583e-01,\n",
      "         3.4333e-01, 7.1433e-01, 7.8608e-01, 2.1815e-01],\n",
      "        [9.5649e-01, 6.6546e-01, 6.0892e-01, 1.3602e-01, 5.9076e-01, 5.1280e-01,\n",
      "         6.7689e-01, 4.5663e-01, 8.2302e-01, 9.8368e-01],\n",
      "        [2.4520e-01, 2.8372e-01, 8.4232e-01, 3.1281e-01, 8.0833e-01, 9.5935e-02,\n",
      "         7.5094e-01, 1.9967e-02, 4.1477e-01, 1.8505e-01],\n",
      "        [7.9385e-01, 1.6089e-01, 2.6431e-01, 4.5571e-01, 5.3527e-01, 8.6240e-01,\n",
      "         3.4861e-01, 4.1880e-01, 6.3766e-01, 8.9661e-01],\n",
      "        [3.3694e-02, 5.5665e-01, 3.5928e-01, 8.9616e-01, 4.4730e-01, 3.7440e-02,\n",
      "         5.7153e-01, 1.1230e-01, 5.6235e-01, 4.3785e-01],\n",
      "        [9.7341e-01, 2.3185e-01, 9.4210e-01, 1.3836e-01, 1.7968e-01, 8.4937e-01,\n",
      "         2.7638e-01, 8.8077e-01, 5.2399e-01, 6.9789e-01],\n",
      "        [8.4052e-02, 9.3165e-02, 9.3029e-01, 4.6646e-01, 7.4676e-01, 8.0384e-01,\n",
      "         4.9447e-01, 9.8261e-01, 4.2525e-01, 6.4406e-01],\n",
      "        [5.8090e-02, 2.6940e-01, 2.0282e-01, 9.7012e-01, 7.4157e-01, 6.1748e-01,\n",
      "         1.3532e-02, 6.1592e-01, 6.6397e-01, 7.8319e-01],\n",
      "        [4.8188e-01, 2.0086e-01, 5.5922e-01, 3.5140e-02, 5.4378e-01, 7.3333e-01,\n",
      "         9.3060e-01, 1.1288e-01, 5.5542e-01, 4.8939e-01],\n",
      "        [1.8532e-01, 8.0739e-01, 3.7186e-01, 8.5364e-01, 4.6920e-01, 3.6566e-01,\n",
      "         3.5745e-02, 5.2860e-01, 5.5992e-01, 7.3649e-01],\n",
      "        [6.2316e-01, 7.1039e-01, 7.8440e-01, 9.8345e-01, 7.2584e-01, 6.1636e-01,\n",
      "         6.1445e-01, 5.1212e-01, 6.1547e-02, 2.7036e-01],\n",
      "        [2.2244e-01, 3.7272e-01, 6.7663e-01, 6.8430e-01, 7.2694e-01, 9.3692e-01,\n",
      "         6.7155e-01, 1.9070e-01, 8.4395e-01, 6.6996e-01]])\n"
     ]
    },
    {
     "ename": "IndexError",
     "evalue": "too many indices for tensor of dimension 2",
     "output_type": "error",
     "traceback": [
      "\u001b[1;31m---------------------------------------------------------------------------\u001b[0m",
      "\u001b[1;31mIndexError\u001b[0m                                Traceback (most recent call last)",
      "Cell \u001b[1;32mIn[57], line 6\u001b[0m\n\u001b[0;32m      4\u001b[0m \u001b[38;5;28mprint\u001b[39m(output)\n\u001b[0;32m      5\u001b[0m \u001b[38;5;66;03m#print(input)\u001b[39;00m\n\u001b[1;32m----> 6\u001b[0m \u001b[38;5;28mprint\u001b[39m(\u001b[43moutput\u001b[49m\u001b[43m[\u001b[49m\u001b[43m:\u001b[49m\u001b[43m,\u001b[49m\u001b[43m \u001b[49m\u001b[38;5;241;43m-\u001b[39;49m\u001b[38;5;241;43m1\u001b[39;49m\u001b[43m,\u001b[49m\u001b[43m \u001b[49m\u001b[43m:\u001b[49m\u001b[43m]\u001b[49m)\n",
      "\u001b[1;31mIndexError\u001b[0m: too many indices for tensor of dimension 2"
     ]
    }
   ],
   "source": [
    "input = torch.rand((4, 8, 10))\n",
    "B, T, C = input.shape\n",
    "output = input.view(B*T, C)\n",
    "print(output)\n",
    "#print(input)\n",
    "print(output[:, -1, :])"
   ]
  },
  {
   "cell_type": "code",
   "execution_count": 59,
   "id": "35550402-6688-4329-ad6d-985208a3fafe",
   "metadata": {},
   "outputs": [
    {
     "name": "stdout",
     "output_type": "stream",
     "text": [
      "tensor([1.])\n"
     ]
    }
   ],
   "source": [
    "x = torch.tensor([10], dtype=torch.float32)\n",
    "y = F.tanh(x)\n",
    "print(y)"
   ]
  },
  {
   "cell_type": "code",
   "execution_count": null,
   "id": "f15265f0-bbef-4fea-9dc0-05faba2560e3",
   "metadata": {},
   "outputs": [],
   "source": []
  }
 ],
 "metadata": {
  "kernelspec": {
   "display_name": "Python 3 (ipykernel)",
   "language": "python",
   "name": "python3"
  },
  "language_info": {
   "codemirror_mode": {
    "name": "ipython",
    "version": 3
   },
   "file_extension": ".py",
   "mimetype": "text/x-python",
   "name": "python",
   "nbconvert_exporter": "python",
   "pygments_lexer": "ipython3",
   "version": "3.11.5"
  }
 },
 "nbformat": 4,
 "nbformat_minor": 5
}
