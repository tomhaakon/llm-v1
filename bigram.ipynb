{
 "cells": [
  {
   "cell_type": "code",
   "execution_count": 57,
   "metadata": {},
   "outputs": [
    {
     "name": "stdout",
     "output_type": "stream",
     "text": [
      "cuda\n"
     ]
    }
   ],
   "source": [
    "import torch\n",
    "import torch.nn as nn\n",
    "from torch.nn import functional as F\n",
    "device = 'cuda' if torch.cuda.is_available() else 'cpu'\n",
    "print(device)\n",
    "block_size = 8\n",
    "batch_size = 4\n",
    "max_iters = 10000\n",
    "# eval_interval = 2500\n",
    "learning_rate = 3e-4\n",
    "eval_iters = 250\n"
   ]
  },
  {
   "cell_type": "code",
   "execution_count": 58,
   "metadata": {},
   "outputs": [
    {
     "name": "stdout",
     "output_type": "stream",
     "text": [
      "['\\n', ' ', '!', '\"', '&', \"'\", '(', ')', '*', ',', '-', '.', '0', '1', '2', '3', '4', '5', '6', '7', '8', '9', ':', ';', '?', 'A', 'B', 'C', 'D', 'E', 'F', 'G', 'H', 'I', 'J', 'K', 'L', 'M', 'N', 'O', 'P', 'Q', 'R', 'S', 'T', 'U', 'V', 'W', 'X', 'Y', 'Z', '[', ']', '_', 'a', 'b', 'c', 'd', 'e', 'f', 'g', 'h', 'i', 'j', 'k', 'l', 'm', 'n', 'o', 'p', 'q', 'r', 's', 't', 'u', 'v', 'w', 'x', 'y', 'z', '\\ufeff']\n"
     ]
    }
   ],
   "source": [
    "with open('wizard_of_oz.txt', 'r', encoding='utf-8') as f:\n",
    "    text = f.read()\n",
    "chars = sorted(set(text))\n",
    "print(chars)\n",
    "vocab_size = len(chars)"
   ]
  },
  {
   "cell_type": "code",
   "execution_count": 59,
   "metadata": {},
   "outputs": [
    {
     "name": "stdout",
     "output_type": "stream",
     "text": [
      "tensor([80, 28, 39, 42, 39, 44, 32, 49,  1, 25, 38, 28,  1, 44, 32, 29,  1, 47,\n",
      "        33, 50, 25, 42, 28,  1, 33, 38,  1, 39, 50,  0,  0,  1,  1, 26, 49,  0,\n",
      "         0,  1,  1, 36, 11,  1, 30, 42, 25, 38, 35,  1, 26, 25, 45, 37,  0,  0,\n",
      "         1,  1, 25, 45, 44, 32, 39, 42,  1, 39, 30,  1, 44, 32, 29,  1, 47, 33,\n",
      "        50, 25, 42, 28,  1, 39, 30,  1, 39, 50,  9,  1, 44, 32, 29,  1, 36, 25,\n",
      "        38, 28,  1, 39, 30,  1, 39, 50,  9,  1])\n"
     ]
    }
   ],
   "source": [
    "string_to_int = { ch:i for i,ch in enumerate(chars) }\n",
    "int_to_string = { i:ch for i,ch in enumerate(chars) }\n",
    "encode = lambda s: [string_to_int[c] for c in s]\n",
    "decode = lambda l: ''.join([int_to_string[i] for i in l])\n",
    "\n",
    "data = torch.tensor(encode(text), dtype=torch.long)\n",
    "print(data[:100])"
   ]
  },
  {
   "cell_type": "code",
   "execution_count": 60,
   "metadata": {},
   "outputs": [
    {
     "name": "stdout",
     "output_type": "stream",
     "text": [
      "inputs:\n",
      "tensor([[73, 61, 58, 66,  9,  1, 72, 68],\n",
      "        [67, 62, 67, 60,  1, 65, 58, 54],\n",
      "        [62, 56, 61,  1, 56, 68, 67, 72],\n",
      "        [78,  1, 61, 54, 75, 58,  1, 78]], device='cuda:0')\n",
      "targets:\n",
      "tensor([[61, 58, 66,  9,  1, 72, 68, 66],\n",
      "        [62, 67, 60,  1, 65, 58, 54, 57],\n",
      "        [56, 61,  1, 56, 68, 67, 72, 73],\n",
      "        [ 1, 61, 54, 75, 58,  1, 78, 68]], device='cuda:0')\n"
     ]
    }
   ],
   "source": [
    "n = int(0.8*len(data))\n",
    "train_data = data[:n]\n",
    "val_data = data[n:]\n",
    "\n",
    "def get_batch(split):\n",
    "    data = train_data if split == 'train' else val_data\n",
    "    ix = torch.randint(len(data) - block_size, (batch_size,))\n",
    "    x = torch.stack([data[i:i+block_size] for i in ix])\n",
    "    y = torch.stack([data[i+1:i+block_size+1] for i in ix])\n",
    "    x, y = x.to(device), y.to(device)\n",
    "    return x, y\n",
    "\n",
    "x, y = get_batch('train')\n",
    "print('inputs:')\n",
    "# print(x.shape)\n",
    "print(x)\n",
    "print('targets:')\n",
    "print(y)"
   ]
  },
  {
   "cell_type": "code",
   "execution_count": 61,
   "metadata": {},
   "outputs": [],
   "source": [
    "@torch.no_grad()\n",
    "def estimate_loss():\n",
    "    out = {}\n",
    "    model.eval()\n",
    "    for split in ['train', 'val']:\n",
    "        losses = torch.zeros(eval_iters)\n",
    "        for k in range(eval_iters):\n",
    "            X, Y = get_batch(split)\n",
    "            logits, loss = model(X, Y)\n",
    "            losses[k] = loss.item()\n",
    "        out[split] = losses.mean()\n",
    "    model.train()\n",
    "    return out"
   ]
  },
  {
   "cell_type": "code",
   "execution_count": 62,
   "metadata": {},
   "outputs": [
    {
     "name": "stdout",
     "output_type": "stream",
     "text": [
      "\n",
      "A8 K7G25E4q5N*eec3ZBGG;DS_M(D!&436(CGRyYKo-tH:['1(szpL8zLLn9sq\n",
      "RKPw*43!wS: 85EfVclxB8bHrNEgVsev ,357GG2]!gSJ9Rj'M\"jJA2dW7OOlL;Xov3FcrO4kKG76qVYMr\"8\n",
      "59zdjZ,_A.,﻿8wDiH8?RKj\"f[aQN*;c;gpHbmlFTJw&(\"xN!Cdbd6SW8?eip5[oe(q\n",
      "kP\"﻿or9,DFP\"i&*.57:RaOkP-TH!C(YR[b)t0LMQM:a&(3b.au2F*Csg5Eng[2)HBHbTTI-MXBOKjC6J9Y'8ng47G]GqAJ59)Qds\n",
      "2\n",
      "u&'V?e a'mN!vgP-*TdblarIO3blxWlvY4GiX &CkdDX;nxN?bo-rT;VuGD?Muy:!?[uy8Icw1gmHiCvpihTSBM3P\"Y4ZcmQ:a&7OdNz\"QM\"Y4L&HQ:Tbu;sN[SF79xBzRKu.ni)1WIb). neI[BG]﻿D!FKVaVW ;wEVW8R8L5h\n",
      ";5mQc_q4tJ\n"
     ]
    }
   ],
   "source": [
    "class BigramLanguageModel(nn.Module):\n",
    "    def __init__(self, vocab_size):\n",
    "        super().__init__()\n",
    "        self.token_embedding_table = nn.Embedding(vocab_size, vocab_size)\n",
    "        \n",
    "    def forward(self, index, targets=None):\n",
    "        logits = self.token_embedding_table(index)\n",
    "        \n",
    "        \n",
    "        if targets is None:\n",
    "            loss = None\n",
    "        else:\n",
    "            B, T, C = logits.shape\n",
    "            logits = logits.view(B*T, C)\n",
    "            targets = targets.view(B*T)\n",
    "            loss = F.cross_entropy(logits, targets)\n",
    "        \n",
    "        return logits, loss\n",
    "    \n",
    "    def generate(self, index, max_new_tokens):\n",
    "        # index is (B, T) array of indices in the current context\n",
    "        for _ in range(max_new_tokens):\n",
    "            # get the predictions\n",
    "            logits, loss = self.forward(index)\n",
    "            # focus only on the last time step\n",
    "            logits = logits[:, -1, :] # becomes (B, C)\n",
    "            # apply softmax to get probabilities\n",
    "            probs = F.softmax(logits, dim=-1) # (B, C)\n",
    "            # sample from the distribution\n",
    "            index_next = torch.multinomial(probs, num_samples=1) # (B, 1)\n",
    "            # append sampled index to the running sequence\n",
    "            index = torch.cat((index, index_next), dim=1) # (B, T+1)\n",
    "        return index\n",
    "\n",
    "model = BigramLanguageModel(vocab_size)\n",
    "m = model.to(device)\n",
    "\n",
    "context = torch.zeros((1,1), dtype=torch.long, device=device)\n",
    "generated_chars = decode(m.generate(context, max_new_tokens=500)[0].tolist())\n",
    "print(generated_chars)\n"
   ]
  },
  {
   "cell_type": "code",
   "execution_count": 63,
   "metadata": {},
   "outputs": [
    {
     "name": "stdout",
     "output_type": "stream",
     "text": [
      "step: 0, train loss: 4.828, val loss: 4.831\n",
      "step: 250, train loss: 4.807, val loss: 4.758\n",
      "step: 500, train loss: 4.721, val loss: 4.708\n",
      "step: 750, train loss: 4.644, val loss: 4.652\n",
      "step: 1000, train loss: 4.595, val loss: 4.591\n",
      "step: 1250, train loss: 4.523, val loss: 4.523\n",
      "step: 1500, train loss: 4.466, val loss: 4.472\n",
      "step: 1750, train loss: 4.422, val loss: 4.426\n",
      "step: 2000, train loss: 4.384, val loss: 4.374\n",
      "step: 2250, train loss: 4.298, val loss: 4.325\n",
      "step: 2500, train loss: 4.247, val loss: 4.259\n",
      "step: 2750, train loss: 4.209, val loss: 4.203\n",
      "step: 3000, train loss: 4.155, val loss: 4.155\n",
      "step: 3250, train loss: 4.106, val loss: 4.107\n",
      "step: 3500, train loss: 4.057, val loss: 4.060\n",
      "step: 3750, train loss: 4.026, val loss: 4.042\n",
      "step: 4000, train loss: 3.956, val loss: 3.969\n",
      "step: 4250, train loss: 3.926, val loss: 3.945\n",
      "step: 4500, train loss: 3.892, val loss: 3.894\n",
      "step: 4750, train loss: 3.848, val loss: 3.867\n",
      "step: 5000, train loss: 3.790, val loss: 3.810\n",
      "step: 5250, train loss: 3.779, val loss: 3.757\n",
      "step: 5500, train loss: 3.724, val loss: 3.745\n",
      "step: 5750, train loss: 3.693, val loss: 3.694\n",
      "step: 6000, train loss: 3.632, val loss: 3.680\n",
      "step: 6250, train loss: 3.600, val loss: 3.599\n",
      "step: 6500, train loss: 3.584, val loss: 3.575\n",
      "step: 6750, train loss: 3.519, val loss: 3.547\n",
      "step: 7000, train loss: 3.509, val loss: 3.521\n",
      "step: 7250, train loss: 3.479, val loss: 3.503\n",
      "step: 7500, train loss: 3.436, val loss: 3.463\n",
      "step: 7750, train loss: 3.408, val loss: 3.447\n",
      "step: 8000, train loss: 3.371, val loss: 3.408\n",
      "step: 8250, train loss: 3.343, val loss: 3.363\n",
      "step: 8500, train loss: 3.322, val loss: 3.329\n",
      "step: 8750, train loss: 3.295, val loss: 3.333\n",
      "step: 9000, train loss: 3.281, val loss: 3.274\n",
      "step: 9250, train loss: 3.246, val loss: 3.283\n",
      "step: 9500, train loss: 3.200, val loss: 3.248\n",
      "step: 9750, train loss: 3.205, val loss: 3.219\n",
      "3.7727291584014893\n"
     ]
    }
   ],
   "source": [
    "# create a PyTorch optimizer\n",
    "optimizer = torch.optim.AdamW(model.parameters(), lr=learning_rate)\n",
    "\n",
    "for iter in range(max_iters):\n",
    "    if iter % eval_iters == 0:\n",
    "        \n",
    "        losses = estimate_loss()\n",
    "        print(f\"step: {iter}, train loss: {losses['train']:.3f}, val loss: {losses['val']:.3f}\")\n",
    "\n",
    "    # sample a batch of data\n",
    "    xb, yb = get_batch('train')\n",
    "\n",
    "    # evaluate the loss\n",
    "    logits, loss = model.forward(xb, yb)\n",
    "    optimizer.zero_grad(set_to_none=True)\n",
    "    loss.backward()\n",
    "    optimizer.step()\n",
    "print(loss.item())"
   ]
  },
  {
   "cell_type": "code",
   "execution_count": 55,
   "metadata": {},
   "outputs": [
    {
     "name": "stdout",
     "output_type": "stream",
     "text": [
      "\n",
      "[3m;\n",
      "_  AZ3DFRx, 3tMO-?Y7bS0﻿hqkpncwbrZiC.MS'y_Rsasn'[lt2TOkF(]k]isw344fiSFj'v)?m\"*Hr59﻿zy*s﻿\")j\"d\n",
      "bUr;5oaMZ6l1uZPar)QDYcI!A(10.doq7(x*H7hq*RB,;. irVU)O!, b4\"\n",
      "dl. Rs-w0\n",
      "\n",
      "mAa0'zgK&:2LCaj\"t&)V)ZikutyM0x_OK&5﻿hfR]*0\n",
      "sMKs_E\"i\n",
      "1rNf,NOzvFB,xKlS;eMiyj5Hrhm;3JtA, &*lC7FAUJtHphqX)Qt:ckC;P1ulkces2BqlJ;?y50'pYp?)fhK1irrrbl\"DIDK(0*tq;vJR\"W;PDK_aduyG\n",
      "s5EI6bUnJ'KjO7K AlSKcUn Iv,9BuyR6;0)OOpTof1, EzrA5Pk&ZZEt4Nse-'BG&myJR:RBwWXcrp*4QL*[2m&5:aTm5,UX]?FVUOpIrhqht1A,jDOZc4outhL.:Pa.hJP&4Hma]iteyq;Lira:Z19y(nGmx\"N\n"
     ]
    }
   ],
   "source": [
    "context = torch.zeros((1,1), dtype=torch.long, device=device)\n",
    "generated_chars = decode(m.generate(context, max_new_tokens=500)[0].tolist())\n",
    "print(generated_chars)"
   ]
  },
  {
   "cell_type": "code",
   "execution_count": null,
   "metadata": {},
   "outputs": [],
   "source": []
  }
 ],
 "metadata": {
  "kernelspec": {
   "display_name": "cuda-gpt",
   "language": "python",
   "name": "cuda"
  },
  "language_info": {
   "codemirror_mode": {
    "name": "ipython",
    "version": 3
   },
   "file_extension": ".py",
   "mimetype": "text/x-python",
   "name": "python",
   "nbconvert_exporter": "python",
   "pygments_lexer": "ipython3",
   "version": "3.11.5"
  }
 },
 "nbformat": 4,
 "nbformat_minor": 4
}
